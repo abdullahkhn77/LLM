{
  "cells": [
    {
      "cell_type": "markdown",
      "metadata": {
        "id": "CMXJGssFusoZ"
      },
      "source": [
        "##TASK 1"
      ]
    },
    {
      "cell_type": "markdown",
      "metadata": {
        "id": "XJHKn3DJ0b_Z"
      },
      "source": [
        "1.1"
      ]
    },
    {
      "cell_type": "code",
      "execution_count": null,
      "metadata": {
        "id": "MEvRoPcWr59l"
      },
      "outputs": [],
      "source": [
        "from sklearn.datasets import fetch_20newsgroups\n",
        "\n",
        "newsgroups = fetch_20newsgroups(subset='all')"
      ]
    },
    {
      "cell_type": "code",
      "execution_count": null,
      "metadata": {
        "id": "vfDWhZpisAzo",
        "colab": {
          "base_uri": "https://localhost:8080/"
        },
        "outputId": "3d05e1f7-5824-461e-8648-1e4e2159000c"
      },
      "outputs": [
        {
          "output_type": "stream",
          "name": "stderr",
          "text": [
            "[nltk_data] Downloading package reuters to /root/nltk_data...\n",
            "[nltk_data]   Package reuters is already up-to-date!\n"
          ]
        }
      ],
      "source": [
        "import nltk  \n",
        "nltk.download('reuters')\n",
        "from nltk.corpus import reuters"
      ]
    },
    {
      "cell_type": "code",
      "execution_count": null,
      "metadata": {
        "id": "2HNyXr3DsIxB"
      },
      "outputs": [],
      "source": [
        "docs = [d for d in   reuters.fileids()]"
      ]
    },
    {
      "cell_type": "code",
      "source": [
        "reuters_data = [reuters.raw(doc_id) for doc_id in   docs]\n",
        "reuters_label = [reuters.categories(doc_id)[0] for  doc_id in docs]"
      ],
      "metadata": {
        "id": "wgGU-31-6-8F"
      },
      "execution_count": null,
      "outputs": []
    },
    {
      "cell_type": "markdown",
      "metadata": {
        "id": "-JaDHKtz0TLW"
      },
      "source": [
        "1.2"
      ]
    },
    {
      "cell_type": "code",
      "execution_count": null,
      "metadata": {
        "colab": {
          "base_uri": "https://localhost:8080/"
        },
        "id": "vT1VhyUpuvtD",
        "outputId": "1a6a059e-f66a-41a6-e262-8be16ff872c9"
      },
      "outputs": [
        {
          "output_type": "stream",
          "name": "stderr",
          "text": [
            "[nltk_data] Downloading package stopwords to /root/nltk_data...\n",
            "[nltk_data]   Package stopwords is already up-to-date!\n",
            "[nltk_data] Downloading package punkt to /root/nltk_data...\n",
            "[nltk_data]   Package punkt is already up-to-date!\n",
            "[nltk_data] Downloading package wordnet to /root/nltk_data...\n",
            "[nltk_data]   Package wordnet is already up-to-date!\n",
            "\n",
            "KeyboardInterrupt\n",
            "\n"
          ]
        }
      ],
      "source": [
        "import nltk\n",
        "from nltk.corpus import stopwords\n",
        "from nltk.stem import SnowballStemmer, WordNetLemmatizer\n",
        "from nltk.tokenize import word_tokenize\n",
        "\n",
        "nltk.download('stopwords')\n",
        "nltk.download('punkt')\n",
        "nltk.download('wordnet')\n",
        "\n",
        "#preprocessing of newsgroups dataset\n",
        "newsgroups_processed = []\n",
        "\n",
        "stop_words = set(stopwords.words('english'))\n",
        "stemmer = SnowballStemmer('english')\n",
        "lemmatizer = WordNetLemmatizer()\n",
        "\n",
        "for article in newsgroups.data:\n",
        "    words = word_tokenize(article.lower())\n",
        "\n",
        "    processed_words = []\n",
        "    for word in words:\n",
        "        if word not in stop_words:\n",
        "            stemmed_word = stemmer.stem(word)\n",
        "            lemmatized_word = lemmatizer.lemmatize(stemmed_word)\n",
        "            processed_words.append(lemmatized_word)\n",
        "\n",
        "    processed_article = ' '.join(processed_words)\n",
        "    newsgroups_processed.append(processed_article)"
      ]
    },
    {
      "cell_type": "code",
      "execution_count": null,
      "metadata": {
        "id": "-gWfb90cxuoA"
      },
      "outputs": [],
      "source": [
        "#preprocessing of reuters dataset\n",
        "reuters_processed = []\n",
        "for article in reuters_data:\n",
        "\n",
        "    words = word_tokenize(article.lower())\n",
        "\n",
        "    processed_words = []\n",
        "    for word in words:\n",
        "        if word not in stop_words:\n",
        "            stemmed_word = stemmer.stem(word)\n",
        "            lemmatized_word = lemmatizer.lemmatize(stemmed_word)\n",
        "            processed_words.append(lemmatized_word)\n",
        "\n",
        "    processed_article = ' '.join(processed_words)\n",
        "    reuters_processed.append(processed_article)"
      ]
    },
    {
      "cell_type": "markdown",
      "source": [
        "1.3"
      ],
      "metadata": {
        "id": "OdS5QpIlwlDa"
      }
    },
    {
      "cell_type": "code",
      "execution_count": null,
      "metadata": {
        "id": "1O43AvnGvCEh"
      },
      "outputs": [],
      "source": [
        "#splitting of data\n",
        "from sklearn.model_selection import train_test_split\n",
        "X_train_reuters, X_test_reuters, y_train_reuters, y_test_reuters = train_test_split(reuters_processed, reuters_label, test_size=0.2, random_state=42)"
      ]
    },
    {
      "cell_type": "code",
      "execution_count": null,
      "metadata": {
        "id": "EPb3ule0xC6g"
      },
      "outputs": [],
      "source": [
        "X_train_news, X_test_news, y_train_news, y_test_news = train_test_split(newsgroups_processed, newsgroups.target, test_size=0.2, random_state=42)"
      ]
    },
    {
      "cell_type": "markdown",
      "metadata": {
        "id": "AKXQgnCB0doa"
      },
      "source": [
        "##Task 2"
      ]
    },
    {
      "cell_type": "code",
      "source": [
        "#bag of words is used to convert the textual data in numerical form\n",
        "from sklearn.feature_extraction.text import CountVectorizer\n",
        "\n",
        "vectorizer = CountVectorizer()\n",
        "\n",
        "vectorizer.fit(reuters_processed)\n",
        "\n",
        "X_train_reuters_bow = vectorizer.transform(X_train_reuters)\n",
        "X_test_reuters_bow = vectorizer.transform(X_test_reuters)"
      ],
      "metadata": {
        "id": "AI_v_15V0f53"
      },
      "execution_count": null,
      "outputs": []
    },
    {
      "cell_type": "code",
      "execution_count": null,
      "metadata": {
        "id": "_Gqlizs10RoI"
      },
      "outputs": [],
      "source": [
        "vectorizer.fit(newsgroups_processed)\n",
        "\n",
        "X_train_news_bow = vectorizer.transform(X_train_news)\n",
        "X_test_news_bow = vectorizer.transform(X_test_news)"
      ]
    },
    {
      "cell_type": "markdown",
      "metadata": {
        "id": "Tgu3KVFa1jxL"
      },
      "source": [
        "##Task 3\n"
      ]
    },
    {
      "cell_type": "markdown",
      "source": [
        "#Naive Bayes"
      ],
      "metadata": {
        "id": "ryYD488l1OaV"
      }
    },
    {
      "cell_type": "markdown",
      "source": [
        "#reuters"
      ],
      "metadata": {
        "id": "FB4taf62FCnO"
      }
    },
    {
      "cell_type": "code",
      "execution_count": null,
      "metadata": {
        "id": "zo3an70x1mWg"
      },
      "outputs": [],
      "source": [
        "from sklearn.naive_bayes import MultinomialNB"
      ]
    },
    {
      "cell_type": "code",
      "execution_count": null,
      "metadata": {
        "id": "oUp3z8lh2DxX"
      },
      "outputs": [],
      "source": [
        "nb = MultinomialNB()\n",
        "nb.fit(X_train_reuters_bow, y_train_reuters)\n",
        "nb_pred = nb.predict(X_test_reuters_bow)"
      ]
    },
    {
      "cell_type": "code",
      "source": [
        "from sklearn.metrics import precision_score, recall_score, f1_score, accuracy_score\n",
        "nb_precision = precision_score(y_test_reuters, nb_pred, average='macro', zero_division=1)\n",
        "nb_acc = accuracy_score(y_test_reuters, nb_pred)\n",
        "nb_recall = recall_score(y_test_reuters, nb_pred, average='macro', zero_division=1)\n",
        "nb_f1 = f1_score(y_test_reuters, nb_pred, average='macro', zero_division=1)\n",
        "\n",
        "print(f\"Accuracy : {nb_acc}\")\n",
        "print(f\"Precision : {nb_precision}\")\n",
        "print(f\"recall : {nb_recall}\")\n",
        "print(f\"f1 : {nb_f1}\")"
      ],
      "metadata": {
        "colab": {
          "base_uri": "https://localhost:8080/"
        },
        "id": "e5iGex3g-Nvx",
        "outputId": "72e6a22d-e26f-430b-8661-90e800dbde9c"
      },
      "execution_count": null,
      "outputs": [
        {
          "output_type": "stream",
          "name": "stdout",
          "text": [
            "Accuracy : 0.8030583873957368\n",
            "Precision : 0.9010478944035242\n",
            "recall : 0.270297966864919\n",
            "f1 : 0.2892173964068426\n"
          ]
        }
      ]
    },
    {
      "cell_type": "markdown",
      "source": [
        "##newsgroup"
      ],
      "metadata": {
        "id": "ee_1Z7ORFLP_"
      }
    },
    {
      "cell_type": "code",
      "source": [
        "nb = MultinomialNB()\n",
        "nb.fit(X_train_news_bow, y_train_news)\n",
        "nb_pred = nb.predict(X_test_news_bow)"
      ],
      "metadata": {
        "id": "T2-noZKf_IRy"
      },
      "execution_count": null,
      "outputs": []
    },
    {
      "cell_type": "code",
      "source": [
        "nb_precision = precision_score(y_test_news, nb_pred, average='macro', zero_division=1)\n",
        "nb_acc = accuracy_score(y_test_news, nb_pred)\n",
        "nb_recall = recall_score(y_test_news, nb_pred, average='macro', zero_division=1)\n",
        "nb_f1 = f1_score(y_test_news, nb_pred, average='macro', zero_division=1)\n",
        "\n",
        "print(f\"Accuracy : {nb_acc}\")\n",
        "print(f\"Precision : {nb_precision}\")\n",
        "print(f\"recall : {nb_recall}\")\n",
        "print(f\"f1 : {nb_f1}\")"
      ],
      "metadata": {
        "colab": {
          "base_uri": "https://localhost:8080/"
        },
        "id": "obIeGCWyF_fc",
        "outputId": "4502f564-fbbb-4c3e-b61e-5870cc335816"
      },
      "execution_count": null,
      "outputs": [
        {
          "output_type": "stream",
          "name": "stdout",
          "text": [
            "Accuracy : 0.8623342175066313\n",
            "Precision : 0.8748332284484155\n",
            "recall : 0.8600746497873217\n",
            "f1 : 0.8533130102999655\n"
          ]
        }
      ]
    },
    {
      "cell_type": "markdown",
      "source": [
        "#Logistic Regression"
      ],
      "metadata": {
        "id": "VGnwly8BGn49"
      }
    },
    {
      "cell_type": "markdown",
      "source": [
        "#reuters"
      ],
      "metadata": {
        "id": "G_Db-WC1Gx0n"
      }
    },
    {
      "cell_type": "code",
      "source": [
        "from sklearn.linear_model import LogisticRegression\n",
        "lg = LogisticRegression()\n",
        "lg.fit(X_train_reuters_bow, y_train_reuters)\n",
        "lg_pred = lg.predict(X_test_reuters_bow)"
      ],
      "metadata": {
        "colab": {
          "base_uri": "https://localhost:8080/"
        },
        "id": "tc4N4ZjsGu3m",
        "outputId": "1bd45f42-c935-440f-ca13-cefc2ea6f8b5"
      },
      "execution_count": null,
      "outputs": [
        {
          "output_type": "stream",
          "name": "stderr",
          "text": [
            "/usr/local/lib/python3.10/dist-packages/sklearn/linear_model/_logistic.py:458: ConvergenceWarning: lbfgs failed to converge (status=1):\n",
            "STOP: TOTAL NO. of ITERATIONS REACHED LIMIT.\n",
            "\n",
            "Increase the number of iterations (max_iter) or scale the data as shown in:\n",
            "    https://scikit-learn.org/stable/modules/preprocessing.html\n",
            "Please also refer to the documentation for alternative solver options:\n",
            "    https://scikit-learn.org/stable/modules/linear_model.html#logistic-regression\n",
            "  n_iter_i = _check_optimize_result(\n"
          ]
        }
      ]
    },
    {
      "cell_type": "code",
      "source": [
        "lg_precision = precision_score(y_test_reuters, lg_pred, average='macro', zero_division=1)\n",
        "lg_acc = accuracy_score(y_test_reuters, lg_pred)\n",
        "lg_recall = recall_score(y_test_reuters, lg_pred, average='macro', zero_division=1)\n",
        "lg_f1 = f1_score(y_test_reuters, lg_pred, average='macro', zero_division=1)\n",
        "\n",
        "print(f\"Accuracy : {lg_acc}\")\n",
        "print(f\"Precision : {lg_precision}\")\n",
        "print(f\"recall : {lg_recall}\")\n",
        "print(f\"f1 : {lg_f1}\")"
      ],
      "metadata": {
        "colab": {
          "base_uri": "https://localhost:8080/"
        },
        "id": "cVi2egaRHMr0",
        "outputId": "b172a274-b7b2-47ca-e5a2-10c795e684aa"
      },
      "execution_count": null,
      "outputs": [
        {
          "output_type": "stream",
          "name": "stdout",
          "text": [
            "Accuracy : 0.8985171455050973\n",
            "Precision : 0.8670663405939585\n",
            "recall : 0.6595124681118025\n",
            "f1 : 0.6680929247715099\n"
          ]
        }
      ]
    },
    {
      "cell_type": "markdown",
      "source": [
        "#newsgroups"
      ],
      "metadata": {
        "id": "mLcHPLyVH1HQ"
      }
    },
    {
      "cell_type": "code",
      "source": [
        "lg = LogisticRegression()\n",
        "lg.fit(X_train_news_bow, y_train_news)\n",
        "lg_pred = lg.predict(X_test_news_bow)"
      ],
      "metadata": {
        "colab": {
          "base_uri": "https://localhost:8080/"
        },
        "id": "UwUeDnWFH0Zl",
        "outputId": "1b037c76-f482-45cd-c844-731a3fa315f0"
      },
      "execution_count": null,
      "outputs": [
        {
          "output_type": "stream",
          "name": "stderr",
          "text": [
            "/usr/local/lib/python3.10/dist-packages/sklearn/linear_model/_logistic.py:458: ConvergenceWarning: lbfgs failed to converge (status=1):\n",
            "STOP: TOTAL NO. of ITERATIONS REACHED LIMIT.\n",
            "\n",
            "Increase the number of iterations (max_iter) or scale the data as shown in:\n",
            "    https://scikit-learn.org/stable/modules/preprocessing.html\n",
            "Please also refer to the documentation for alternative solver options:\n",
            "    https://scikit-learn.org/stable/modules/linear_model.html#logistic-regression\n",
            "  n_iter_i = _check_optimize_result(\n"
          ]
        }
      ]
    },
    {
      "cell_type": "code",
      "source": [
        "lg_precision = precision_score(y_test_news, lg_pred, average='macro', zero_division=1)\n",
        "lg_acc = accuracy_score(y_test_news, lg_pred)\n",
        "lg_recall = recall_score(y_test_news, lg_pred, average='macro', zero_division=1)\n",
        "lg_f1 = f1_score(y_test_news, lg_pred, average='macro', zero_division=1)\n",
        "\n",
        "print(f\"Accuracy : {lg_acc}\")\n",
        "print(f\"Precision : {lg_precision}\")\n",
        "print(f\"recall : {lg_recall}\")\n",
        "print(f\"f1 : {lg_f1}\")"
      ],
      "metadata": {
        "colab": {
          "base_uri": "https://localhost:8080/"
        },
        "id": "HNmgZTHFIKKP",
        "outputId": "6f957e46-698d-43cc-cbda-ffbff3cb8341"
      },
      "execution_count": null,
      "outputs": [
        {
          "output_type": "stream",
          "name": "stdout",
          "text": [
            "Accuracy : 0.8835543766578249\n",
            "Precision : 0.8840708257522236\n",
            "recall : 0.8819305817326185\n",
            "f1 : 0.88273479780838\n"
          ]
        }
      ]
    },
    {
      "cell_type": "markdown",
      "source": [
        "#SVM"
      ],
      "metadata": {
        "id": "FyKALZIUIXNK"
      }
    },
    {
      "cell_type": "markdown",
      "source": [
        "##reuters"
      ],
      "metadata": {
        "id": "87N1oyDIIZvL"
      }
    },
    {
      "cell_type": "code",
      "source": [
        "from sklearn.svm import LinearSVC\n",
        "svm = LinearSVC()\n",
        "svm.fit(X_train_reuters_bow, y_train_reuters)\n",
        "svm_pred = svm.predict(X_test_reuters_bow)"
      ],
      "metadata": {
        "colab": {
          "base_uri": "https://localhost:8080/"
        },
        "id": "j0YB39FJUZQv",
        "outputId": "8e6157f6-2ae3-4289-d503-f38424c8bd28"
      },
      "execution_count": null,
      "outputs": [
        {
          "output_type": "stream",
          "name": "stderr",
          "text": [
            "/usr/local/lib/python3.10/dist-packages/sklearn/svm/_base.py:1244: ConvergenceWarning: Liblinear failed to converge, increase the number of iterations.\n",
            "  warnings.warn(\n"
          ]
        }
      ]
    },
    {
      "cell_type": "code",
      "source": [
        "svm_precision = precision_score(y_test_reuters, svm_pred, average='macro', zero_division=1)\n",
        "svm_acc = accuracy_score(y_test_reuters, svm_pred)\n",
        "svm_recall = recall_score(y_test_reuters, svm_pred, average='macro', zero_division=1)\n",
        "svm_f1 = f1_score(y_test_reuters, svm_pred, average='macro', zero_division=1)\n",
        "\n",
        "print(f\"Accuracy : {svm_acc}\")\n",
        "print(f\"Precision : {svm_precision}\")\n",
        "print(f\"recall : {svm_recall}\")\n",
        "print(f\"f1 : {svm_f1}\")"
      ],
      "metadata": {
        "colab": {
          "base_uri": "https://localhost:8080/"
        },
        "id": "SKej8NTOUuPs",
        "outputId": "f03ed42a-5565-4e03-b082-db53fe165981"
      },
      "execution_count": null,
      "outputs": [
        {
          "output_type": "stream",
          "name": "stdout",
          "text": [
            "Accuracy : 0.897126969416126\n",
            "Precision : 0.8490360045562296\n",
            "recall : 0.7022991235394137\n",
            "f1 : 0.6886649535264855\n"
          ]
        }
      ]
    },
    {
      "cell_type": "markdown",
      "source": [
        "##newsgroups"
      ],
      "metadata": {
        "id": "1XRXb76vU68N"
      }
    },
    {
      "cell_type": "code",
      "source": [
        "svm = LinearSVC()\n",
        "svm.fit(X_train_news_bow, y_train_news)\n",
        "svm_pred = svm.predict(X_test_news_bow)"
      ],
      "metadata": {
        "colab": {
          "base_uri": "https://localhost:8080/"
        },
        "id": "6YkfQhL_U5le",
        "outputId": "7e1e884e-3159-4ce5-a314-76de287abc3d"
      },
      "execution_count": null,
      "outputs": [
        {
          "output_type": "stream",
          "name": "stderr",
          "text": [
            "/usr/local/lib/python3.10/dist-packages/sklearn/svm/_base.py:1244: ConvergenceWarning: Liblinear failed to converge, increase the number of iterations.\n",
            "  warnings.warn(\n"
          ]
        }
      ]
    },
    {
      "cell_type": "code",
      "source": [
        "svm_precision = precision_score(y_test_news, svm_pred, average='macro', zero_division=1)\n",
        "svm_acc = accuracy_score(y_test_news, svm_pred)\n",
        "svm_recall = recall_score(y_test_news, svm_pred, average='macro', zero_division=1)\n",
        "svm_f1 = f1_score(y_test_news, svm_pred, average='macro', zero_division=1)\n",
        "\n",
        "print(f\"Accuracy : {svm_acc}\")\n",
        "print(f\"Precision : {svm_precision}\")\n",
        "print(f\"recall : {svm_recall}\")\n",
        "print(f\"f1 : {svm_f1}\")"
      ],
      "metadata": {
        "colab": {
          "base_uri": "https://localhost:8080/"
        },
        "id": "y1JeQnQ3VTZl",
        "outputId": "1742d679-62f8-4240-994d-a119085f06bb"
      },
      "execution_count": null,
      "outputs": [
        {
          "output_type": "stream",
          "name": "stdout",
          "text": [
            "Accuracy : 0.8740053050397878\n",
            "Precision : 0.8752539112964408\n",
            "recall : 0.8725698161510744\n",
            "f1 : 0.8734104230235795\n"
          ]
        }
      ]
    },
    {
      "cell_type": "markdown",
      "source": [
        "#Random Forest"
      ],
      "metadata": {
        "id": "Kbmqv2GPVcye"
      }
    },
    {
      "cell_type": "markdown",
      "source": [
        "##reuters"
      ],
      "metadata": {
        "id": "wVsNW-n4WOYl"
      }
    },
    {
      "cell_type": "code",
      "source": [
        "from sklearn.ensemble import RandomForestClassifier\n",
        "rf = RandomForestClassifier()\n",
        "rf.fit(X_train_reuters_bow, y_train_reuters)\n",
        "rf_pred = rf.predict(X_test_reuters_bow)"
      ],
      "metadata": {
        "id": "8KHrG9GMVmUK"
      },
      "execution_count": null,
      "outputs": []
    },
    {
      "cell_type": "code",
      "source": [
        "rf_precision = precision_score(y_test_reuters, rf_pred, average='macro', zero_division=1)\n",
        "rf_acc = accuracy_score(y_test_reuters, rf_pred)\n",
        "rf_recall = recall_score(y_test_reuters, rf_pred, average='macro', zero_division=1)\n",
        "rf_f1 = f1_score(y_test_reuters, rf_pred, average='macro', zero_division=1)\n",
        "\n",
        "print(f\"Accuracy : {rf_acc}\")\n",
        "print(f\"Precision : {rf_precision}\")\n",
        "print(f\"recall : {rf_recall}\")\n",
        "print(f\"f1 : {rf_f1}\")"
      ],
      "metadata": {
        "colab": {
          "base_uri": "https://localhost:8080/"
        },
        "id": "9NRsn5CPWAlB",
        "outputId": "ae86778b-2089-4b2f-ee5a-fd76d8c0f372"
      },
      "execution_count": null,
      "outputs": [
        {
          "output_type": "stream",
          "name": "stdout",
          "text": [
            "Accuracy : 0.835032437442076\n",
            "Precision : 0.8766093441267114\n",
            "recall : 0.4029233961280404\n",
            "f1 : 0.4573670115425329\n"
          ]
        }
      ]
    },
    {
      "cell_type": "markdown",
      "source": [
        "##newsgroups"
      ],
      "metadata": {
        "id": "Qws2ufdhWQWg"
      }
    },
    {
      "cell_type": "code",
      "source": [
        "rf = RandomForestClassifier()\n",
        "rf.fit(X_train_news_bow, y_train_news)\n",
        "rf_pred = rf.predict(X_test_news_bow)"
      ],
      "metadata": {
        "id": "N-skwSt6WTPW"
      },
      "execution_count": null,
      "outputs": []
    },
    {
      "cell_type": "code",
      "source": [
        "rf_precision = precision_score(y_test_news, rf_pred, average='macro', zero_division=1)\n",
        "rf_acc = accuracy_score(y_test_news, rf_pred)\n",
        "recall = recall_score(y_test_news, rf_pred, average='macro', zero_division=1)\n",
        "f1 = f1_score(y_test_news, rf_pred, average='macro', zero_division=1)\n",
        "\n",
        "print(f\"Accuracy : {rf_acc}\")\n",
        "print(f\"Precision : {rf_precision}\")\n",
        "print(f\"recall : {rf_recall}\")\n",
        "print(f\"f1 : {rf_f1}\")"
      ],
      "metadata": {
        "colab": {
          "base_uri": "https://localhost:8080/"
        },
        "id": "aO9Ra9WUWcOx",
        "outputId": "a7a2d29c-7fa0-4236-e245-ac05c775bff6"
      },
      "execution_count": null,
      "outputs": [
        {
          "output_type": "stream",
          "name": "stdout",
          "text": [
            "Accuracy : 0.8543766578249337\n",
            "Precision : 0.862547564776883\n",
            "recall : 0.8496954678432702\n",
            "f1 : 0.8512352498817759\n"
          ]
        }
      ]
    },
    {
      "cell_type": "markdown",
      "source": [
        "#Task 4"
      ],
      "metadata": {
        "id": "L9Y3ro4flh0g"
      }
    },
    {
      "cell_type": "markdown",
      "source": [
        "Analysis "
      ],
      "metadata": {
        "id": "PcTDznKNbd-X"
      }
    },
    {
      "cell_type": "code",
      "source": [
        "import matplotlib.pyplot as plt\n",
        "x = ['Naive Bayes','Logistic Regression','SVM','Random Forest']\n",
        "y = [nb_acc,lg_acc,svm_acc,rf_acc]\n",
        "plt.title('Accuracy')\n",
        "plt.bar(x,y)"
      ],
      "metadata": {
        "colab": {
          "base_uri": "https://localhost:8080/",
          "height": 469
        },
        "id": "PVOcM-nRjhZv",
        "outputId": "6956dc4a-b2d1-4c57-e8e3-677c36f64232"
      },
      "execution_count": null,
      "outputs": [
        {
          "output_type": "execute_result",
          "data": {
            "text/plain": [
              "<BarContainer object of 4 artists>"
            ]
          },
          "metadata": {},
          "execution_count": 140
        },
        {
          "output_type": "display_data",
          "data": {
            "text/plain": [
              "<Figure size 640x480 with 1 Axes>"
            ],
            "image/png": "[encoded data removed]"
          },
          "metadata": {}
        }
      ]
    },
    {
      "cell_type": "code",
      "source": [
        "x = ['Naive Bayes','Logistic Regression','SVM','Random Forest']\n",
        "y = [nb_recall,lg_recall,svm_recall,rf_recall]\n",
        "plt.title('Recall')\n",
        "plt.bar(x,y)"
      ],
      "metadata": {
        "colab": {
          "base_uri": "https://localhost:8080/",
          "height": 469
        },
        "id": "jqd4JtWxj7Ss",
        "outputId": "39505b46-6b3d-453b-d469-950b90ade0d7"
      },
      "execution_count": null,
      "outputs": [
        {
          "output_type": "execute_result",
          "data": {
            "text/plain": [
              "<BarContainer object of 4 artists>"
            ]
          },
          "metadata": {},
          "execution_count": 139
        },
        {
          "output_type": "display_data",
          "data": {
            "text/plain": [
              "<Figure size 640x480 with 1 Axes>"
            ],
            "image/png": "[encoded data removed]"
          },
          "metadata": {}
        }
      ]
    },
    {
      "cell_type": "code",
      "source": [
        "x = ['Naive Bayes','Logistic Regression','SVM','Random Forest']\n",
        "y = [nb_precision,lg_precision,svm_precision,rf_precision]\n",
        "plt.title('Precision')\n",
        "plt.bar(x,y)"
      ],
      "metadata": {
        "colab": {
          "base_uri": "https://localhost:8080/",
          "height": 469
        },
        "id": "wPm98bP8kICk",
        "outputId": "26b0be6f-1fd8-4097-e369-092f74ee79d9"
      },
      "execution_count": null,
      "outputs": [
        {
          "output_type": "execute_result",
          "data": {
            "text/plain": [
              "<BarContainer object of 4 artists>"
            ]
          },
          "metadata": {},
          "execution_count": 138
        },
        {
          "output_type": "display_data",
          "data": {
            "text/plain": [
              "<Figure size 640x480 with 1 Axes>"
            ],
            "image/png": "[encoded data removed]"
          },
          "metadata": {}
        }
      ]
    },
    {
      "cell_type": "code",
      "source": [
        "x = ['Naive Bayes','Logistic Regression','SVM','Random Forest']\n",
        "y = [nb_f1,lg_f1,svm_f1,rf_f1]\n",
        "plt.title('f-measure')\n",
        "plt.bar(x,y)"
      ],
      "metadata": {
        "colab": {
          "base_uri": "https://localhost:8080/",
          "height": 469
        },
        "id": "tY3AMDPjkWrH",
        "outputId": "8934bfd1-0b61-40d4-de9e-3bfedfa60c65"
      },
      "execution_count": null,
      "outputs": [
        {
          "output_type": "execute_result",
          "data": {
            "text/plain": [
              "<BarContainer object of 4 artists>"
            ]
          },
          "metadata": {},
          "execution_count": 142
        },
        {
          "output_type": "display_data",
          "data": {
            "text/plain": [
              "<Figure size 640x480 with 1 Axes>"
            ],
            "image/png": "[encoded data removed]"
          },
          "metadata": {}
        }
      ]
    }
  ],
  "metadata": {
    "colab": {
      "provenance": []
    },
    "kernelspec": {
      "display_name": "Python 3",
      "name": "python3"
    },
    "language_info": {
      "name": "python"
    }
  },
  "nbformat": 4,
  "nbformat_minor": 0
}